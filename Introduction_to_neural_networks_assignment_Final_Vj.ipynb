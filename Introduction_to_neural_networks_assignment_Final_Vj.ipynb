{
  "nbformat": 4,
  "nbformat_minor": 0,
  "metadata": {
    "colab": {
      "name": "Introduction_to_neural_networks_assignment_Final_Vj.ipynb",
      "provenance": [],
      "collapsed_sections": []
    },
    "kernelspec": {
      "name": "python3",
      "display_name": "Python 3"
    },
    "language_info": {
      "name": "python"
    }
  },
  "cells": [
    {
      "cell_type": "markdown",
      "metadata": {
        "id": "EpafHJ_R7MMl"
      },
      "source": [
        "# Bank Churn Prediction\n",
        "\n",
        "## Objective:\n",
        "\n",
        "Given a Bank customer, build a neural network-based classifier that can determine whether they will leave or not in the next 6 months.\n",
        "\n",
        "## Context: \n",
        "\n",
        "Businesses like banks that provide service have to worry about the problem of 'Churn' i.e. customers leaving and joining another service provider. It is important to understand which aspects of the service influence a customer's decision in this regard. Management can concentrate efforts on the improvement of service, keeping in mind these priorities.\n",
        "Data Description: \n",
        "\n",
        "The case study is from an open-source dataset from Kaggle. The dataset contains 10,000 sample points with 14 distinct features such as CustomerId, CreditScore, Geography, Gender, Age, Tenure, Balance, etc.\n",
        "Link to the Kaggle project site:https://www.kaggle.com/barelydedicated/bank-customer-churn-modeling\n",
        "\n",
        "## Data Dictionary:\n",
        "\n",
        "1. RowNumber: Row number \n",
        "2. CustomerId: Unique identification key for different customers.\n",
        "3. Surname: Surname of the customer\n",
        "4. Credit Score: Credit score is a measure of an individual's ability to pay back the borrowed amount. It is the numerical representation of their creditworthiness. A credit score is a 3-digit number that falls in the range of 300-900, 900 being the highest.\n",
        "5. Geography: The country to which the customer belongs.\n",
        "6. Gender: The gender of the customer.\n",
        "7. Age: Age of the customer.\n",
        "8. Tenure: The period of time a customer has been associated with the bank.\n",
        "9. Balance: The account balance (the amount of money deposited in the bank account) of the customer.\n",
        "10. NumOfProducts: How many accounts, bank account affiliated products the person has.\n",
        "11. HasCrCard: Does the customer have a credit card through the bank?\n",
        "12. IsActiveMember: Subjective, but for the concept\n",
        "13. EstimatedSalary: Estimated salary of the customer.\n",
        "14.Exited: Did they leave the bank after all?\n",
        "\n",
        "\n",
        "## Points Distribution:\n",
        "\n",
        "The points distribution for this case is as follows:\n",
        "\n",
        "1. Read the dataset\n",
        "2. Drop the columns which are unique for all users like IDs (5 points)\n",
        "3. Perform bivariate analysis and give your insights from the same (5 points) \n",
        "4. Distinguish the feature and target set and divide the data set into training and test sets (5 points)\n",
        "5. Normalize the train and test data (10points)\n",
        "6. Initialize & build the model. Identify the points of improvement and implement the same. (20)\n",
        "7. Predict the results using 0.5 as a threshold (10points)\n",
        "8. Print the Accuracy score and confusion matrix (5 points)"
      ]
    },
    {
      "cell_type": "code",
      "metadata": {
        "id": "dnKazVFL2Iqh"
      },
      "source": [
        "# Importing the required libraries\n",
        "\n",
        "import numpy as np\n",
        "import pandas as pd\n",
        "import seaborn as sns\n",
        "import matplotlib.pyplot as plt\n",
        "from sklearn.model_selection import train_test_split\n",
        "import tensorflow as tf\n",
        "\n",
        "from sklearn import preprocessing\n",
        "from sklearn.preprocessing import StandardScaler\n",
        "from tensorflow.keras.models import Sequential\n",
        "from keras.layers import Dropout, Dense\n",
        "from tensorflow.keras.layers import Dense, Dropout, BatchNormalization\n",
        "from sklearn.metrics import accuracy_score, confusion_matrix\n",
        "import matplotlib.pyplot as plt\n",
        "from tensorflow.keras import optimizers"
      ],
      "execution_count": null,
      "outputs": []
    },
    {
      "cell_type": "code",
      "metadata": {
        "id": "5eY29Hkk2Nov"
      },
      "source": [
        "from google.colab import drive"
      ],
      "execution_count": null,
      "outputs": []
    },
    {
      "cell_type": "code",
      "metadata": {
        "colab": {
          "base_uri": "https://localhost:8080/"
        },
        "id": "Os3n41Gb3nqX",
        "outputId": "2c12e91c-2705-4a9c-aba1-038c42651b4c"
      },
      "source": [
        "drive.mount('/content/drive/')"
      ],
      "execution_count": null,
      "outputs": [
        {
          "output_type": "stream",
          "text": [
            "Mounted at /content/drive/\n"
          ],
          "name": "stdout"
        }
      ]
    },
    {
      "cell_type": "code",
      "metadata": {
        "id": "eAj_GCaW3rDy"
      },
      "source": [
        "project_path = '/content/drive/My Drive/Colab/dataset/'"
      ],
      "execution_count": null,
      "outputs": []
    },
    {
      "cell_type": "code",
      "metadata": {
        "id": "rVfMB7U635KV"
      },
      "source": [
        "dataset_file = project_path + 'bank_nn.csv'"
      ],
      "execution_count": null,
      "outputs": []
    },
    {
      "cell_type": "code",
      "metadata": {
        "id": "bzM51DGE3-Bu"
      },
      "source": [
        "# reading the dataset\n",
        "bdata = pd.read_csv(dataset_file)"
      ],
      "execution_count": null,
      "outputs": []
    },
    {
      "cell_type": "markdown",
      "metadata": {
        "id": "7emYVarEAkkQ"
      },
      "source": [
        "## Expolratory Data Analysis (EDA)"
      ]
    },
    {
      "cell_type": "code",
      "metadata": {
        "colab": {
          "base_uri": "https://localhost:8080/"
        },
        "id": "zd7-XU3l5OAG",
        "outputId": "633a08f4-672b-4a0e-c0bb-b5fa98c58327"
      },
      "source": [
        "bdata.shape"
      ],
      "execution_count": null,
      "outputs": [
        {
          "output_type": "execute_result",
          "data": {
            "text/plain": [
              "(10000, 14)"
            ]
          },
          "metadata": {
            "tags": []
          },
          "execution_count": 7
        }
      ]
    },
    {
      "cell_type": "code",
      "metadata": {
        "colab": {
          "base_uri": "https://localhost:8080/",
          "height": 204
        },
        "id": "mo4BAvjZ4hBn",
        "outputId": "93e43df5-813e-40f3-a28e-45497db7cf77"
      },
      "source": [
        "bdata.head()"
      ],
      "execution_count": null,
      "outputs": [
        {
          "output_type": "execute_result",
          "data": {
            "text/html": [
              "<div>\n",
              "<style scoped>\n",
              "    .dataframe tbody tr th:only-of-type {\n",
              "        vertical-align: middle;\n",
              "    }\n",
              "\n",
              "    .dataframe tbody tr th {\n",
              "        vertical-align: top;\n",
              "    }\n",
              "\n",
              "    .dataframe thead th {\n",
              "        text-align: right;\n",
              "    }\n",
              "</style>\n",
              "<table border=\"1\" class=\"dataframe\">\n",
              "  <thead>\n",
              "    <tr style=\"text-align: right;\">\n",
              "      <th></th>\n",
              "      <th>RowNumber</th>\n",
              "      <th>CustomerId</th>\n",
              "      <th>Surname</th>\n",
              "      <th>CreditScore</th>\n",
              "      <th>Geography</th>\n",
              "      <th>Gender</th>\n",
              "      <th>Age</th>\n",
              "      <th>Tenure</th>\n",
              "      <th>Balance</th>\n",
              "      <th>NumOfProducts</th>\n",
              "      <th>HasCrCard</th>\n",
              "      <th>IsActiveMember</th>\n",
              "      <th>EstimatedSalary</th>\n",
              "      <th>Exited</th>\n",
              "    </tr>\n",
              "  </thead>\n",
              "  <tbody>\n",
              "    <tr>\n",
              "      <th>0</th>\n",
              "      <td>1</td>\n",
              "      <td>15634602</td>\n",
              "      <td>Hargrave</td>\n",
              "      <td>619</td>\n",
              "      <td>France</td>\n",
              "      <td>Female</td>\n",
              "      <td>42</td>\n",
              "      <td>2</td>\n",
              "      <td>0.00</td>\n",
              "      <td>1</td>\n",
              "      <td>1</td>\n",
              "      <td>1</td>\n",
              "      <td>101348.88</td>\n",
              "      <td>1</td>\n",
              "    </tr>\n",
              "    <tr>\n",
              "      <th>1</th>\n",
              "      <td>2</td>\n",
              "      <td>15647311</td>\n",
              "      <td>Hill</td>\n",
              "      <td>608</td>\n",
              "      <td>Spain</td>\n",
              "      <td>Female</td>\n",
              "      <td>41</td>\n",
              "      <td>1</td>\n",
              "      <td>83807.86</td>\n",
              "      <td>1</td>\n",
              "      <td>0</td>\n",
              "      <td>1</td>\n",
              "      <td>112542.58</td>\n",
              "      <td>0</td>\n",
              "    </tr>\n",
              "    <tr>\n",
              "      <th>2</th>\n",
              "      <td>3</td>\n",
              "      <td>15619304</td>\n",
              "      <td>Onio</td>\n",
              "      <td>502</td>\n",
              "      <td>France</td>\n",
              "      <td>Female</td>\n",
              "      <td>42</td>\n",
              "      <td>8</td>\n",
              "      <td>159660.80</td>\n",
              "      <td>3</td>\n",
              "      <td>1</td>\n",
              "      <td>0</td>\n",
              "      <td>113931.57</td>\n",
              "      <td>1</td>\n",
              "    </tr>\n",
              "    <tr>\n",
              "      <th>3</th>\n",
              "      <td>4</td>\n",
              "      <td>15701354</td>\n",
              "      <td>Boni</td>\n",
              "      <td>699</td>\n",
              "      <td>France</td>\n",
              "      <td>Female</td>\n",
              "      <td>39</td>\n",
              "      <td>1</td>\n",
              "      <td>0.00</td>\n",
              "      <td>2</td>\n",
              "      <td>0</td>\n",
              "      <td>0</td>\n",
              "      <td>93826.63</td>\n",
              "      <td>0</td>\n",
              "    </tr>\n",
              "    <tr>\n",
              "      <th>4</th>\n",
              "      <td>5</td>\n",
              "      <td>15737888</td>\n",
              "      <td>Mitchell</td>\n",
              "      <td>850</td>\n",
              "      <td>Spain</td>\n",
              "      <td>Female</td>\n",
              "      <td>43</td>\n",
              "      <td>2</td>\n",
              "      <td>125510.82</td>\n",
              "      <td>1</td>\n",
              "      <td>1</td>\n",
              "      <td>1</td>\n",
              "      <td>79084.10</td>\n",
              "      <td>0</td>\n",
              "    </tr>\n",
              "  </tbody>\n",
              "</table>\n",
              "</div>"
            ],
            "text/plain": [
              "   RowNumber  CustomerId   Surname  ...  IsActiveMember EstimatedSalary Exited\n",
              "0          1    15634602  Hargrave  ...               1       101348.88      1\n",
              "1          2    15647311      Hill  ...               1       112542.58      0\n",
              "2          3    15619304      Onio  ...               0       113931.57      1\n",
              "3          4    15701354      Boni  ...               0        93826.63      0\n",
              "4          5    15737888  Mitchell  ...               1        79084.10      0\n",
              "\n",
              "[5 rows x 14 columns]"
            ]
          },
          "metadata": {
            "tags": []
          },
          "execution_count": 8
        }
      ]
    },
    {
      "cell_type": "code",
      "metadata": {
        "colab": {
          "base_uri": "https://localhost:8080/",
          "height": 390
        },
        "id": "JyM50tGI4pDH",
        "outputId": "118e01f2-0127-4cbe-eaf2-dc0debe46ec1"
      },
      "source": [
        "bdata.describe().T"
      ],
      "execution_count": null,
      "outputs": [
        {
          "output_type": "execute_result",
          "data": {
            "text/html": [
              "<div>\n",
              "<style scoped>\n",
              "    .dataframe tbody tr th:only-of-type {\n",
              "        vertical-align: middle;\n",
              "    }\n",
              "\n",
              "    .dataframe tbody tr th {\n",
              "        vertical-align: top;\n",
              "    }\n",
              "\n",
              "    .dataframe thead th {\n",
              "        text-align: right;\n",
              "    }\n",
              "</style>\n",
              "<table border=\"1\" class=\"dataframe\">\n",
              "  <thead>\n",
              "    <tr style=\"text-align: right;\">\n",
              "      <th></th>\n",
              "      <th>count</th>\n",
              "      <th>mean</th>\n",
              "      <th>std</th>\n",
              "      <th>min</th>\n",
              "      <th>25%</th>\n",
              "      <th>50%</th>\n",
              "      <th>75%</th>\n",
              "      <th>max</th>\n",
              "    </tr>\n",
              "  </thead>\n",
              "  <tbody>\n",
              "    <tr>\n",
              "      <th>RowNumber</th>\n",
              "      <td>10000.0</td>\n",
              "      <td>5.000500e+03</td>\n",
              "      <td>2886.895680</td>\n",
              "      <td>1.00</td>\n",
              "      <td>2500.75</td>\n",
              "      <td>5.000500e+03</td>\n",
              "      <td>7.500250e+03</td>\n",
              "      <td>10000.00</td>\n",
              "    </tr>\n",
              "    <tr>\n",
              "      <th>CustomerId</th>\n",
              "      <td>10000.0</td>\n",
              "      <td>1.569094e+07</td>\n",
              "      <td>71936.186123</td>\n",
              "      <td>15565701.00</td>\n",
              "      <td>15628528.25</td>\n",
              "      <td>1.569074e+07</td>\n",
              "      <td>1.575323e+07</td>\n",
              "      <td>15815690.00</td>\n",
              "    </tr>\n",
              "    <tr>\n",
              "      <th>CreditScore</th>\n",
              "      <td>10000.0</td>\n",
              "      <td>6.505288e+02</td>\n",
              "      <td>96.653299</td>\n",
              "      <td>350.00</td>\n",
              "      <td>584.00</td>\n",
              "      <td>6.520000e+02</td>\n",
              "      <td>7.180000e+02</td>\n",
              "      <td>850.00</td>\n",
              "    </tr>\n",
              "    <tr>\n",
              "      <th>Age</th>\n",
              "      <td>10000.0</td>\n",
              "      <td>3.892180e+01</td>\n",
              "      <td>10.487806</td>\n",
              "      <td>18.00</td>\n",
              "      <td>32.00</td>\n",
              "      <td>3.700000e+01</td>\n",
              "      <td>4.400000e+01</td>\n",
              "      <td>92.00</td>\n",
              "    </tr>\n",
              "    <tr>\n",
              "      <th>Tenure</th>\n",
              "      <td>10000.0</td>\n",
              "      <td>5.012800e+00</td>\n",
              "      <td>2.892174</td>\n",
              "      <td>0.00</td>\n",
              "      <td>3.00</td>\n",
              "      <td>5.000000e+00</td>\n",
              "      <td>7.000000e+00</td>\n",
              "      <td>10.00</td>\n",
              "    </tr>\n",
              "    <tr>\n",
              "      <th>Balance</th>\n",
              "      <td>10000.0</td>\n",
              "      <td>7.648589e+04</td>\n",
              "      <td>62397.405202</td>\n",
              "      <td>0.00</td>\n",
              "      <td>0.00</td>\n",
              "      <td>9.719854e+04</td>\n",
              "      <td>1.276442e+05</td>\n",
              "      <td>250898.09</td>\n",
              "    </tr>\n",
              "    <tr>\n",
              "      <th>NumOfProducts</th>\n",
              "      <td>10000.0</td>\n",
              "      <td>1.530200e+00</td>\n",
              "      <td>0.581654</td>\n",
              "      <td>1.00</td>\n",
              "      <td>1.00</td>\n",
              "      <td>1.000000e+00</td>\n",
              "      <td>2.000000e+00</td>\n",
              "      <td>4.00</td>\n",
              "    </tr>\n",
              "    <tr>\n",
              "      <th>HasCrCard</th>\n",
              "      <td>10000.0</td>\n",
              "      <td>7.055000e-01</td>\n",
              "      <td>0.455840</td>\n",
              "      <td>0.00</td>\n",
              "      <td>0.00</td>\n",
              "      <td>1.000000e+00</td>\n",
              "      <td>1.000000e+00</td>\n",
              "      <td>1.00</td>\n",
              "    </tr>\n",
              "    <tr>\n",
              "      <th>IsActiveMember</th>\n",
              "      <td>10000.0</td>\n",
              "      <td>5.151000e-01</td>\n",
              "      <td>0.499797</td>\n",
              "      <td>0.00</td>\n",
              "      <td>0.00</td>\n",
              "      <td>1.000000e+00</td>\n",
              "      <td>1.000000e+00</td>\n",
              "      <td>1.00</td>\n",
              "    </tr>\n",
              "    <tr>\n",
              "      <th>EstimatedSalary</th>\n",
              "      <td>10000.0</td>\n",
              "      <td>1.000902e+05</td>\n",
              "      <td>57510.492818</td>\n",
              "      <td>11.58</td>\n",
              "      <td>51002.11</td>\n",
              "      <td>1.001939e+05</td>\n",
              "      <td>1.493882e+05</td>\n",
              "      <td>199992.48</td>\n",
              "    </tr>\n",
              "    <tr>\n",
              "      <th>Exited</th>\n",
              "      <td>10000.0</td>\n",
              "      <td>2.037000e-01</td>\n",
              "      <td>0.402769</td>\n",
              "      <td>0.00</td>\n",
              "      <td>0.00</td>\n",
              "      <td>0.000000e+00</td>\n",
              "      <td>0.000000e+00</td>\n",
              "      <td>1.00</td>\n",
              "    </tr>\n",
              "  </tbody>\n",
              "</table>\n",
              "</div>"
            ],
            "text/plain": [
              "                   count          mean  ...           75%          max\n",
              "RowNumber        10000.0  5.000500e+03  ...  7.500250e+03     10000.00\n",
              "CustomerId       10000.0  1.569094e+07  ...  1.575323e+07  15815690.00\n",
              "CreditScore      10000.0  6.505288e+02  ...  7.180000e+02       850.00\n",
              "Age              10000.0  3.892180e+01  ...  4.400000e+01        92.00\n",
              "Tenure           10000.0  5.012800e+00  ...  7.000000e+00        10.00\n",
              "Balance          10000.0  7.648589e+04  ...  1.276442e+05    250898.09\n",
              "NumOfProducts    10000.0  1.530200e+00  ...  2.000000e+00         4.00\n",
              "HasCrCard        10000.0  7.055000e-01  ...  1.000000e+00         1.00\n",
              "IsActiveMember   10000.0  5.151000e-01  ...  1.000000e+00         1.00\n",
              "EstimatedSalary  10000.0  1.000902e+05  ...  1.493882e+05    199992.48\n",
              "Exited           10000.0  2.037000e-01  ...  0.000000e+00         1.00\n",
              "\n",
              "[11 rows x 8 columns]"
            ]
          },
          "metadata": {
            "tags": []
          },
          "execution_count": 9
        }
      ]
    },
    {
      "cell_type": "code",
      "metadata": {
        "colab": {
          "base_uri": "https://localhost:8080/"
        },
        "id": "6cVabvQS44zV",
        "outputId": "22d743ee-b185-4ae1-f0d1-56593b6da122"
      },
      "source": [
        "bdata.dtypes"
      ],
      "execution_count": null,
      "outputs": [
        {
          "output_type": "execute_result",
          "data": {
            "text/plain": [
              "RowNumber            int64\n",
              "CustomerId           int64\n",
              "Surname             object\n",
              "CreditScore          int64\n",
              "Geography           object\n",
              "Gender              object\n",
              "Age                  int64\n",
              "Tenure               int64\n",
              "Balance            float64\n",
              "NumOfProducts        int64\n",
              "HasCrCard            int64\n",
              "IsActiveMember       int64\n",
              "EstimatedSalary    float64\n",
              "Exited               int64\n",
              "dtype: object"
            ]
          },
          "metadata": {
            "tags": []
          },
          "execution_count": 10
        }
      ]
    },
    {
      "cell_type": "code",
      "metadata": {
        "colab": {
          "base_uri": "https://localhost:8080/"
        },
        "id": "tPQdjQLs4_0d",
        "outputId": "1ce28ef2-a43a-4353-d3e5-c9975a46fae5"
      },
      "source": [
        "bdata.isnull().sum()"
      ],
      "execution_count": null,
      "outputs": [
        {
          "output_type": "execute_result",
          "data": {
            "text/plain": [
              "RowNumber          0\n",
              "CustomerId         0\n",
              "Surname            0\n",
              "CreditScore        0\n",
              "Geography          0\n",
              "Gender             0\n",
              "Age                0\n",
              "Tenure             0\n",
              "Balance            0\n",
              "NumOfProducts      0\n",
              "HasCrCard          0\n",
              "IsActiveMember     0\n",
              "EstimatedSalary    0\n",
              "Exited             0\n",
              "dtype: int64"
            ]
          },
          "metadata": {
            "tags": []
          },
          "execution_count": 11
        }
      ]
    },
    {
      "cell_type": "markdown",
      "metadata": {
        "id": "5ZU6A9blUIdG"
      },
      "source": [
        "no Null Data"
      ]
    },
    {
      "cell_type": "markdown",
      "metadata": {
        "id": "CVB_n7rsBB4J"
      },
      "source": [
        "*# \n",
        " One hot coding for geographical places & gender. transforming *Tables*\n",
        "\n"
      ]
    },
    {
      "cell_type": "code",
      "metadata": {
        "id": "a9D1EAZR5DJF"
      },
      "source": [
        "bdata = bdata.drop (['RowNumber','CustomerId','Surname'], axis=1)"
      ],
      "execution_count": null,
      "outputs": []
    },
    {
      "cell_type": "markdown",
      "metadata": {
        "id": "I8eX9C9FBOse"
      },
      "source": [
        "\n",
        "*#  One hot coding for geographical places & gender. transforming *Tables*"
      ]
    },
    {
      "cell_type": "code",
      "metadata": {
        "id": "ImpovIe9Jxv6"
      },
      "source": [
        "bdata = pd.get_dummies(bdata, columns=['Geography','Gender'])"
      ],
      "execution_count": null,
      "outputs": []
    },
    {
      "cell_type": "code",
      "metadata": {
        "colab": {
          "base_uri": "https://localhost:8080/",
          "height": 204
        },
        "id": "UNQdJklxJ-cy",
        "outputId": "a40a0b00-b5bb-4be3-9da3-fda7dd2cc741"
      },
      "source": [
        "bdata.head()"
      ],
      "execution_count": null,
      "outputs": [
        {
          "output_type": "execute_result",
          "data": {
            "text/html": [
              "<div>\n",
              "<style scoped>\n",
              "    .dataframe tbody tr th:only-of-type {\n",
              "        vertical-align: middle;\n",
              "    }\n",
              "\n",
              "    .dataframe tbody tr th {\n",
              "        vertical-align: top;\n",
              "    }\n",
              "\n",
              "    .dataframe thead th {\n",
              "        text-align: right;\n",
              "    }\n",
              "</style>\n",
              "<table border=\"1\" class=\"dataframe\">\n",
              "  <thead>\n",
              "    <tr style=\"text-align: right;\">\n",
              "      <th></th>\n",
              "      <th>CreditScore</th>\n",
              "      <th>Age</th>\n",
              "      <th>Tenure</th>\n",
              "      <th>Balance</th>\n",
              "      <th>NumOfProducts</th>\n",
              "      <th>HasCrCard</th>\n",
              "      <th>IsActiveMember</th>\n",
              "      <th>EstimatedSalary</th>\n",
              "      <th>Exited</th>\n",
              "      <th>Geography_France</th>\n",
              "      <th>Geography_Germany</th>\n",
              "      <th>Geography_Spain</th>\n",
              "      <th>Gender_Female</th>\n",
              "      <th>Gender_Male</th>\n",
              "    </tr>\n",
              "  </thead>\n",
              "  <tbody>\n",
              "    <tr>\n",
              "      <th>0</th>\n",
              "      <td>619</td>\n",
              "      <td>42</td>\n",
              "      <td>2</td>\n",
              "      <td>0.00</td>\n",
              "      <td>1</td>\n",
              "      <td>1</td>\n",
              "      <td>1</td>\n",
              "      <td>101348.88</td>\n",
              "      <td>1</td>\n",
              "      <td>1</td>\n",
              "      <td>0</td>\n",
              "      <td>0</td>\n",
              "      <td>1</td>\n",
              "      <td>0</td>\n",
              "    </tr>\n",
              "    <tr>\n",
              "      <th>1</th>\n",
              "      <td>608</td>\n",
              "      <td>41</td>\n",
              "      <td>1</td>\n",
              "      <td>83807.86</td>\n",
              "      <td>1</td>\n",
              "      <td>0</td>\n",
              "      <td>1</td>\n",
              "      <td>112542.58</td>\n",
              "      <td>0</td>\n",
              "      <td>0</td>\n",
              "      <td>0</td>\n",
              "      <td>1</td>\n",
              "      <td>1</td>\n",
              "      <td>0</td>\n",
              "    </tr>\n",
              "    <tr>\n",
              "      <th>2</th>\n",
              "      <td>502</td>\n",
              "      <td>42</td>\n",
              "      <td>8</td>\n",
              "      <td>159660.80</td>\n",
              "      <td>3</td>\n",
              "      <td>1</td>\n",
              "      <td>0</td>\n",
              "      <td>113931.57</td>\n",
              "      <td>1</td>\n",
              "      <td>1</td>\n",
              "      <td>0</td>\n",
              "      <td>0</td>\n",
              "      <td>1</td>\n",
              "      <td>0</td>\n",
              "    </tr>\n",
              "    <tr>\n",
              "      <th>3</th>\n",
              "      <td>699</td>\n",
              "      <td>39</td>\n",
              "      <td>1</td>\n",
              "      <td>0.00</td>\n",
              "      <td>2</td>\n",
              "      <td>0</td>\n",
              "      <td>0</td>\n",
              "      <td>93826.63</td>\n",
              "      <td>0</td>\n",
              "      <td>1</td>\n",
              "      <td>0</td>\n",
              "      <td>0</td>\n",
              "      <td>1</td>\n",
              "      <td>0</td>\n",
              "    </tr>\n",
              "    <tr>\n",
              "      <th>4</th>\n",
              "      <td>850</td>\n",
              "      <td>43</td>\n",
              "      <td>2</td>\n",
              "      <td>125510.82</td>\n",
              "      <td>1</td>\n",
              "      <td>1</td>\n",
              "      <td>1</td>\n",
              "      <td>79084.10</td>\n",
              "      <td>0</td>\n",
              "      <td>0</td>\n",
              "      <td>0</td>\n",
              "      <td>1</td>\n",
              "      <td>1</td>\n",
              "      <td>0</td>\n",
              "    </tr>\n",
              "  </tbody>\n",
              "</table>\n",
              "</div>"
            ],
            "text/plain": [
              "   CreditScore  Age  Tenure  ...  Geography_Spain  Gender_Female  Gender_Male\n",
              "0          619   42       2  ...                0              1            0\n",
              "1          608   41       1  ...                1              1            0\n",
              "2          502   42       8  ...                0              1            0\n",
              "3          699   39       1  ...                0              1            0\n",
              "4          850   43       2  ...                1              1            0\n",
              "\n",
              "[5 rows x 14 columns]"
            ]
          },
          "metadata": {
            "tags": []
          },
          "execution_count": 14
        }
      ]
    },
    {
      "cell_type": "markdown",
      "metadata": {
        "id": "BLVn0_wyBno8"
      },
      "source": [
        "Mean Value\n"
      ]
    },
    {
      "cell_type": "code",
      "metadata": {
        "colab": {
          "base_uri": "https://localhost:8080/",
          "height": 142
        },
        "id": "u9PRP4AL5aJ4",
        "outputId": "a9e10bf7-e327-40db-e7f2-d19a885062af"
      },
      "source": [
        "bdata.groupby('Exited').mean()"
      ],
      "execution_count": null,
      "outputs": [
        {
          "output_type": "execute_result",
          "data": {
            "text/html": [
              "<div>\n",
              "<style scoped>\n",
              "    .dataframe tbody tr th:only-of-type {\n",
              "        vertical-align: middle;\n",
              "    }\n",
              "\n",
              "    .dataframe tbody tr th {\n",
              "        vertical-align: top;\n",
              "    }\n",
              "\n",
              "    .dataframe thead th {\n",
              "        text-align: right;\n",
              "    }\n",
              "</style>\n",
              "<table border=\"1\" class=\"dataframe\">\n",
              "  <thead>\n",
              "    <tr style=\"text-align: right;\">\n",
              "      <th></th>\n",
              "      <th>CreditScore</th>\n",
              "      <th>Age</th>\n",
              "      <th>Tenure</th>\n",
              "      <th>Balance</th>\n",
              "      <th>NumOfProducts</th>\n",
              "      <th>HasCrCard</th>\n",
              "      <th>IsActiveMember</th>\n",
              "      <th>EstimatedSalary</th>\n",
              "      <th>Geography_France</th>\n",
              "      <th>Geography_Germany</th>\n",
              "      <th>Geography_Spain</th>\n",
              "      <th>Gender_Female</th>\n",
              "      <th>Gender_Male</th>\n",
              "    </tr>\n",
              "    <tr>\n",
              "      <th>Exited</th>\n",
              "      <th></th>\n",
              "      <th></th>\n",
              "      <th></th>\n",
              "      <th></th>\n",
              "      <th></th>\n",
              "      <th></th>\n",
              "      <th></th>\n",
              "      <th></th>\n",
              "      <th></th>\n",
              "      <th></th>\n",
              "      <th></th>\n",
              "      <th></th>\n",
              "      <th></th>\n",
              "    </tr>\n",
              "  </thead>\n",
              "  <tbody>\n",
              "    <tr>\n",
              "      <th>0</th>\n",
              "      <td>651.853196</td>\n",
              "      <td>37.408389</td>\n",
              "      <td>5.033279</td>\n",
              "      <td>72745.296779</td>\n",
              "      <td>1.544267</td>\n",
              "      <td>0.707146</td>\n",
              "      <td>0.554565</td>\n",
              "      <td>99738.391772</td>\n",
              "      <td>0.527942</td>\n",
              "      <td>0.212859</td>\n",
              "      <td>0.259199</td>\n",
              "      <td>0.427477</td>\n",
              "      <td>0.572523</td>\n",
              "    </tr>\n",
              "    <tr>\n",
              "      <th>1</th>\n",
              "      <td>645.351497</td>\n",
              "      <td>44.837997</td>\n",
              "      <td>4.932744</td>\n",
              "      <td>91108.539337</td>\n",
              "      <td>1.475209</td>\n",
              "      <td>0.699067</td>\n",
              "      <td>0.360825</td>\n",
              "      <td>101465.677531</td>\n",
              "      <td>0.397644</td>\n",
              "      <td>0.399607</td>\n",
              "      <td>0.202749</td>\n",
              "      <td>0.559156</td>\n",
              "      <td>0.440844</td>\n",
              "    </tr>\n",
              "  </tbody>\n",
              "</table>\n",
              "</div>"
            ],
            "text/plain": [
              "        CreditScore        Age  ...  Gender_Female  Gender_Male\n",
              "Exited                          ...                            \n",
              "0        651.853196  37.408389  ...       0.427477     0.572523\n",
              "1        645.351497  44.837997  ...       0.559156     0.440844\n",
              "\n",
              "[2 rows x 13 columns]"
            ]
          },
          "metadata": {
            "tags": []
          },
          "execution_count": 15
        }
      ]
    },
    {
      "cell_type": "code",
      "metadata": {
        "colab": {
          "base_uri": "https://localhost:8080/"
        },
        "id": "aZuAolNI5cYl",
        "outputId": "37beb946-de85-4880-bcd8-58d7247a8289"
      },
      "source": [
        "bdata.skew()"
      ],
      "execution_count": null,
      "outputs": [
        {
          "output_type": "execute_result",
          "data": {
            "text/plain": [
              "CreditScore         -0.071607\n",
              "Age                  1.011320\n",
              "Tenure               0.010991\n",
              "Balance             -0.141109\n",
              "NumOfProducts        0.745568\n",
              "HasCrCard           -0.901812\n",
              "IsActiveMember      -0.060437\n",
              "EstimatedSalary      0.002085\n",
              "Exited               1.471611\n",
              "Geography_France    -0.005601\n",
              "Geography_Germany    1.149340\n",
              "Geography_Spain      1.169106\n",
              "Gender_Female        0.183596\n",
              "Gender_Male         -0.183596\n",
              "dtype: float64"
            ]
          },
          "metadata": {
            "tags": []
          },
          "execution_count": 16
        }
      ]
    },
    {
      "cell_type": "code",
      "metadata": {
        "id": "8hs0r5gN5e_b"
      },
      "source": [
        "sns.pairplot(bdata)"
      ],
      "execution_count": null,
      "outputs": []
    },
    {
      "cell_type": "code",
      "metadata": {
        "id": "UVnQl7yW5ilZ"
      },
      "source": [
        "fig,ax = plt.subplots(figsize=(20, 15))\n",
        "sns.heatmap(bdata.corr(), annot=True, cmap=plt.cm.GnBu_r)"
      ],
      "execution_count": null,
      "outputs": []
    },
    {
      "cell_type": "code",
      "metadata": {
        "id": "43TqnQIS5our"
      },
      "source": [
        "x=bdata.drop(['Exited'], axis=1)\n",
        "y=bdata['Exited']"
      ],
      "execution_count": null,
      "outputs": []
    },
    {
      "cell_type": "markdown",
      "metadata": {
        "id": "-tRZxG9LB9G4"
      },
      "source": [
        "## Distinguish the feature and target set and divide the data set into training and test sets"
      ]
    },
    {
      "cell_type": "code",
      "metadata": {
        "id": "oKsydbjX6gLV"
      },
      "source": [
        "x_train, x_test, y_train, y_test = train_test_split(x, y, test_size = 0.2, random_state = 7)"
      ],
      "execution_count": null,
      "outputs": []
    },
    {
      "cell_type": "markdown",
      "metadata": {
        "id": "DhsHhOWsCY-P"
      },
      "source": [
        "## Normalize the train and test data"
      ]
    },
    {
      "cell_type": "code",
      "metadata": {
        "id": "jw9_ZIczwsov"
      },
      "source": [
        "#from sklearn.preprocessing import StandardScaler\n",
        "\n",
        "scaler = StandardScaler().fit(x_train)\n",
        "\n",
        "# Scale the train set\n",
        "x_train = scaler.transform(x_train)\n",
        "\n",
        "# Scale the test set\n",
        "x_test = scaler.transform(x_test)"
      ],
      "execution_count": null,
      "outputs": []
    },
    {
      "cell_type": "code",
      "metadata": {
        "colab": {
          "base_uri": "https://localhost:8080/"
        },
        "id": "kqfb5e0CJZ7t",
        "outputId": "933f737b-68a1-44a7-8efe-6e7e7e4d5233"
      },
      "source": [
        "print(x_train.shape)\n",
        "print(x_test.shape)\n",
        "print(y_train.shape)\n",
        "print(y_test.shape)"
      ],
      "execution_count": null,
      "outputs": [
        {
          "output_type": "stream",
          "text": [
            "(8000, 13)\n",
            "(2000, 13)\n",
            "(8000,)\n",
            "(2000,)\n"
          ],
          "name": "stdout"
        }
      ]
    },
    {
      "cell_type": "markdown",
      "metadata": {
        "id": "wsBmhvy6VMxv"
      },
      "source": [
        "# if i normalizing am getting accuracy less than 81%\n",
        "\n",
        "# if i StandardScaler am getting accuracy over 85% \n",
        "\n",
        "# using labelencoder not transforming tables such as (Gender_male ==1, Gender_female==1) is best way of distributing data (transforming tables such as (Gender_male, Gender_female) and Geography )\n",
        "\n"
      ]
    },
    {
      "cell_type": "markdown",
      "metadata": {
        "id": "jkuEwbIdCQnL"
      },
      "source": [
        "## Initialize & build the model. Identify the points of improvement and implement the same."
      ]
    },
    {
      "cell_type": "code",
      "metadata": {
        "id": "ZGwWtFHlK6Pp"
      },
      "source": [
        "model = Sequential()"
      ],
      "execution_count": null,
      "outputs": []
    },
    {
      "cell_type": "code",
      "metadata": {
        "id": "e6Io7hbPLPgP"
      },
      "source": [
        "## Adding the input layer and the first hidden layer\n",
        "\n",
        "# add() method belongs to the sequential class.\n",
        "# add a fully connected layer (hidden), which will be a new object for the dense class.\n",
        "# Argument for dense() - \n",
        "# 'units' - There are called hyperparameters and are the hidden neurons.\n",
        "# 'activation' - activation function in the hidden layer must be a rectifier activation function.\n",
        "# 'relu' - codename for rectifier activation function.\n",
        "# model.add(Dense(100, input_shape = (10,), activation = 'relu'))\n",
        "#model.add(Dense(50, activation = 'relu'))\n",
        "#model.add(Dense(25, activation = 'relu'))\n",
        "#model.add(Dense(1, activation = 'sigmoid'))\n",
        "#model.add(Dense(100, input_shape = (10,), activation = 'softmax'))\n",
        "#model.add(Dense(100, activation = 'softmax'))\n",
        "#model.add(Dense(6, activation = 'relu'))\n",
        "\n",
        "model.add(Dense(100, input_shape = (13,), activation = 'relu'))\n",
        "model.add(Dense(50, activation = 'relu'))\n"
      ],
      "execution_count": null,
      "outputs": []
    },
    {
      "cell_type": "code",
      "metadata": {
        "id": "k77vpNVPWpdp"
      },
      "source": [
        "## Adding the second hidden layer\n",
        "#model.add(Dense(50, activation = 'relu'))"
      ],
      "execution_count": null,
      "outputs": []
    },
    {
      "cell_type": "code",
      "metadata": {
        "id": "imXYwi5CWwMZ"
      },
      "source": [
        "## Adding the third hidden layer\n",
        "#from keras.layers import LeakyReLU\n",
        "# here change your line to leave out an activation \n",
        "#model.add(Dense(25))\n",
        "# now add a ReLU layer explicitly:\n",
        "#model.add(LeakyReLU(alpha=0.05))"
      ],
      "execution_count": null,
      "outputs": []
    },
    {
      "cell_type": "code",
      "metadata": {
        "id": "wiJUlrbJWrNu"
      },
      "source": [
        "## Adding the output layer\n",
        "\n",
        "model.add(Dense(1, activation = 'sigmoid'))"
      ],
      "execution_count": null,
      "outputs": []
    },
    {
      "cell_type": "code",
      "metadata": {
        "id": "FdGm0IpcL_iK"
      },
      "source": [
        "## Compiling the ANN\n",
        "# Arguments - \n",
        "# 'optimizer' - We choose 'adam' optimizer as it can perform stochastic gradient descent. \n",
        "#  The stochastic gradient descent will optimize the weights to minimize the loss between the actual and the predicted values.\n",
        "# 'loss' - When we are doing a binary classification when we are predicting a binary variable use 'binary_crossentropy' and \n",
        "#  if we had categorical variable to predict we would have used 'categorical_crossentropy'\n",
        "# 'metrics' - \n",
        "\n",
        "model.compile(optimizer = 'adam', loss = 'binary_crossentropy', metrics=['accuracy'])"
      ],
      "execution_count": null,
      "outputs": []
    },
    {
      "cell_type": "code",
      "metadata": {
        "colab": {
          "base_uri": "https://localhost:8080/"
        },
        "id": "K65lfBoKMCjZ",
        "outputId": "074bbc91-ac93-46e7-ba57-b4f56ab18f29"
      },
      "source": [
        "model.summary()"
      ],
      "execution_count": null,
      "outputs": [
        {
          "output_type": "stream",
          "text": [
            "Model: \"sequential\"\n",
            "_________________________________________________________________\n",
            "Layer (type)                 Output Shape              Param #   \n",
            "=================================================================\n",
            "dense (Dense)                (None, 100)               1400      \n",
            "_________________________________________________________________\n",
            "dense_1 (Dense)              (None, 50)                5050      \n",
            "_________________________________________________________________\n",
            "dense_2 (Dense)              (None, 1)                 51        \n",
            "=================================================================\n",
            "Total params: 6,501\n",
            "Trainable params: 6,501\n",
            "Non-trainable params: 0\n",
            "_________________________________________________________________\n"
          ],
          "name": "stdout"
        }
      ]
    },
    {
      "cell_type": "code",
      "metadata": {
        "colab": {
          "base_uri": "https://localhost:8080/"
        },
        "id": "bbvxRC9uMHFw",
        "outputId": "d341af67-f242-4e55-ef36-5851172b60b4"
      },
      "source": [
        "model.fit(x_train, y_train, batch_size = 2500, epochs = 50, validation_split=.2,  verbose = 1)\n",
        "#model.fit(x_train, y_train, batch_size = 16, epochs = 100, validation_split=.2,  verbose = 1)"
      ],
      "execution_count": null,
      "outputs": [
        {
          "output_type": "stream",
          "text": [
            "Epoch 1/50\n",
            "3/3 [==============================] - 1s 256ms/step - loss: 0.7508 - accuracy: 0.3498 - val_loss: 0.6837 - val_accuracy: 0.5587\n",
            "Epoch 2/50\n",
            "3/3 [==============================] - 0s 26ms/step - loss: 0.6640 - accuracy: 0.6291 - val_loss: 0.6190 - val_accuracy: 0.7500\n",
            "Epoch 3/50\n",
            "3/3 [==============================] - 0s 27ms/step - loss: 0.6016 - accuracy: 0.7811 - val_loss: 0.5734 - val_accuracy: 0.7894\n",
            "Epoch 4/50\n",
            "3/3 [==============================] - 0s 25ms/step - loss: 0.5602 - accuracy: 0.7941 - val_loss: 0.5437 - val_accuracy: 0.7894\n",
            "Epoch 5/50\n",
            "3/3 [==============================] - 0s 26ms/step - loss: 0.5276 - accuracy: 0.7987 - val_loss: 0.5257 - val_accuracy: 0.7894\n",
            "Epoch 6/50\n",
            "3/3 [==============================] - 0s 24ms/step - loss: 0.5068 - accuracy: 0.8005 - val_loss: 0.5156 - val_accuracy: 0.7894\n",
            "Epoch 7/50\n",
            "3/3 [==============================] - 0s 26ms/step - loss: 0.4981 - accuracy: 0.7968 - val_loss: 0.5091 - val_accuracy: 0.7894\n",
            "Epoch 8/50\n",
            "3/3 [==============================] - 0s 27ms/step - loss: 0.4854 - accuracy: 0.7992 - val_loss: 0.5036 - val_accuracy: 0.7894\n",
            "Epoch 9/50\n",
            "3/3 [==============================] - 0s 27ms/step - loss: 0.4841 - accuracy: 0.7947 - val_loss: 0.4971 - val_accuracy: 0.7894\n",
            "Epoch 10/50\n",
            "3/3 [==============================] - 0s 27ms/step - loss: 0.4712 - accuracy: 0.7986 - val_loss: 0.4896 - val_accuracy: 0.7894\n",
            "Epoch 11/50\n",
            "3/3 [==============================] - 0s 24ms/step - loss: 0.4612 - accuracy: 0.8010 - val_loss: 0.4818 - val_accuracy: 0.7912\n",
            "Epoch 12/50\n",
            "3/3 [==============================] - 0s 26ms/step - loss: 0.4579 - accuracy: 0.7974 - val_loss: 0.4742 - val_accuracy: 0.7931\n",
            "Epoch 13/50\n",
            "3/3 [==============================] - 0s 24ms/step - loss: 0.4473 - accuracy: 0.8013 - val_loss: 0.4675 - val_accuracy: 0.7969\n",
            "Epoch 14/50\n",
            "3/3 [==============================] - 0s 26ms/step - loss: 0.4417 - accuracy: 0.8062 - val_loss: 0.4618 - val_accuracy: 0.7962\n",
            "Epoch 15/50\n",
            "3/3 [==============================] - 0s 23ms/step - loss: 0.4356 - accuracy: 0.8096 - val_loss: 0.4570 - val_accuracy: 0.7994\n",
            "Epoch 16/50\n",
            "3/3 [==============================] - 0s 24ms/step - loss: 0.4271 - accuracy: 0.8165 - val_loss: 0.4526 - val_accuracy: 0.8031\n",
            "Epoch 17/50\n",
            "3/3 [==============================] - 0s 26ms/step - loss: 0.4249 - accuracy: 0.8178 - val_loss: 0.4488 - val_accuracy: 0.8031\n",
            "Epoch 18/50\n",
            "3/3 [==============================] - 0s 26ms/step - loss: 0.4187 - accuracy: 0.8214 - val_loss: 0.4456 - val_accuracy: 0.8044\n",
            "Epoch 19/50\n",
            "3/3 [==============================] - 0s 27ms/step - loss: 0.4238 - accuracy: 0.8181 - val_loss: 0.4426 - val_accuracy: 0.8025\n",
            "Epoch 20/50\n",
            "3/3 [==============================] - 0s 25ms/step - loss: 0.4156 - accuracy: 0.8204 - val_loss: 0.4402 - val_accuracy: 0.8044\n",
            "Epoch 21/50\n",
            "3/3 [==============================] - 0s 25ms/step - loss: 0.4075 - accuracy: 0.8247 - val_loss: 0.4381 - val_accuracy: 0.8069\n",
            "Epoch 22/50\n",
            "3/3 [==============================] - 0s 27ms/step - loss: 0.4063 - accuracy: 0.8254 - val_loss: 0.4358 - val_accuracy: 0.8056\n",
            "Epoch 23/50\n",
            "3/3 [==============================] - 0s 25ms/step - loss: 0.3994 - accuracy: 0.8291 - val_loss: 0.4334 - val_accuracy: 0.8075\n",
            "Epoch 24/50\n",
            "3/3 [==============================] - 0s 25ms/step - loss: 0.4008 - accuracy: 0.8310 - val_loss: 0.4305 - val_accuracy: 0.8112\n",
            "Epoch 25/50\n",
            "3/3 [==============================] - 0s 24ms/step - loss: 0.4008 - accuracy: 0.8305 - val_loss: 0.4276 - val_accuracy: 0.8138\n",
            "Epoch 26/50\n",
            "3/3 [==============================] - 0s 26ms/step - loss: 0.3970 - accuracy: 0.8344 - val_loss: 0.4250 - val_accuracy: 0.8169\n",
            "Epoch 27/50\n",
            "3/3 [==============================] - 0s 27ms/step - loss: 0.3932 - accuracy: 0.8378 - val_loss: 0.4225 - val_accuracy: 0.8175\n",
            "Epoch 28/50\n",
            "3/3 [==============================] - 0s 23ms/step - loss: 0.3890 - accuracy: 0.8383 - val_loss: 0.4201 - val_accuracy: 0.8206\n",
            "Epoch 29/50\n",
            "3/3 [==============================] - 0s 26ms/step - loss: 0.3855 - accuracy: 0.8421 - val_loss: 0.4175 - val_accuracy: 0.8206\n",
            "Epoch 30/50\n",
            "3/3 [==============================] - 0s 24ms/step - loss: 0.3855 - accuracy: 0.8438 - val_loss: 0.4148 - val_accuracy: 0.8250\n",
            "Epoch 31/50\n",
            "3/3 [==============================] - 0s 25ms/step - loss: 0.3840 - accuracy: 0.8421 - val_loss: 0.4120 - val_accuracy: 0.8281\n",
            "Epoch 32/50\n",
            "3/3 [==============================] - 0s 29ms/step - loss: 0.3832 - accuracy: 0.8440 - val_loss: 0.4092 - val_accuracy: 0.8294\n",
            "Epoch 33/50\n",
            "3/3 [==============================] - 0s 30ms/step - loss: 0.3793 - accuracy: 0.8450 - val_loss: 0.4066 - val_accuracy: 0.8300\n",
            "Epoch 34/50\n",
            "3/3 [==============================] - 0s 28ms/step - loss: 0.3741 - accuracy: 0.8487 - val_loss: 0.4039 - val_accuracy: 0.8325\n",
            "Epoch 35/50\n",
            "3/3 [==============================] - 0s 27ms/step - loss: 0.3711 - accuracy: 0.8496 - val_loss: 0.4012 - val_accuracy: 0.8338\n",
            "Epoch 36/50\n",
            "3/3 [==============================] - 0s 26ms/step - loss: 0.3708 - accuracy: 0.8490 - val_loss: 0.3984 - val_accuracy: 0.8338\n",
            "Epoch 37/50\n",
            "3/3 [==============================] - 0s 30ms/step - loss: 0.3697 - accuracy: 0.8504 - val_loss: 0.3958 - val_accuracy: 0.8344\n",
            "Epoch 38/50\n",
            "3/3 [==============================] - 0s 23ms/step - loss: 0.3644 - accuracy: 0.8532 - val_loss: 0.3936 - val_accuracy: 0.8375\n",
            "Epoch 39/50\n",
            "3/3 [==============================] - 0s 29ms/step - loss: 0.3607 - accuracy: 0.8552 - val_loss: 0.3912 - val_accuracy: 0.8381\n",
            "Epoch 40/50\n",
            "3/3 [==============================] - 0s 23ms/step - loss: 0.3604 - accuracy: 0.8544 - val_loss: 0.3886 - val_accuracy: 0.8400\n",
            "Epoch 41/50\n",
            "3/3 [==============================] - 0s 25ms/step - loss: 0.3580 - accuracy: 0.8559 - val_loss: 0.3860 - val_accuracy: 0.8388\n",
            "Epoch 42/50\n",
            "3/3 [==============================] - 0s 28ms/step - loss: 0.3601 - accuracy: 0.8541 - val_loss: 0.3835 - val_accuracy: 0.8381\n",
            "Epoch 43/50\n",
            "3/3 [==============================] - 0s 25ms/step - loss: 0.3509 - accuracy: 0.8574 - val_loss: 0.3814 - val_accuracy: 0.8413\n",
            "Epoch 44/50\n",
            "3/3 [==============================] - 0s 28ms/step - loss: 0.3494 - accuracy: 0.8606 - val_loss: 0.3795 - val_accuracy: 0.8419\n",
            "Epoch 45/50\n",
            "3/3 [==============================] - 0s 24ms/step - loss: 0.3468 - accuracy: 0.8598 - val_loss: 0.3776 - val_accuracy: 0.8431\n",
            "Epoch 46/50\n",
            "3/3 [==============================] - 0s 23ms/step - loss: 0.3457 - accuracy: 0.8613 - val_loss: 0.3758 - val_accuracy: 0.8438\n",
            "Epoch 47/50\n",
            "3/3 [==============================] - 0s 25ms/step - loss: 0.3444 - accuracy: 0.8620 - val_loss: 0.3740 - val_accuracy: 0.8456\n",
            "Epoch 48/50\n",
            "3/3 [==============================] - 0s 28ms/step - loss: 0.3461 - accuracy: 0.8586 - val_loss: 0.3721 - val_accuracy: 0.8494\n",
            "Epoch 49/50\n",
            "3/3 [==============================] - 0s 26ms/step - loss: 0.3402 - accuracy: 0.8627 - val_loss: 0.3706 - val_accuracy: 0.8494\n",
            "Epoch 50/50\n",
            "3/3 [==============================] - 0s 26ms/step - loss: 0.3401 - accuracy: 0.8616 - val_loss: 0.3692 - val_accuracy: 0.8494\n"
          ],
          "name": "stdout"
        },
        {
          "output_type": "execute_result",
          "data": {
            "text/plain": [
              "<tensorflow.python.keras.callbacks.History at 0x7f75a2d54310>"
            ]
          },
          "metadata": {
            "tags": []
          },
          "execution_count": 27
        }
      ]
    },
    {
      "cell_type": "code",
      "metadata": {
        "colab": {
          "base_uri": "https://localhost:8080/"
        },
        "id": "6Ab04--TMl6N",
        "outputId": "52a85ff8-93e3-47b2-d8cc-6bba3853bd27"
      },
      "source": [
        "results = model.evaluate(x_test, y_test)"
      ],
      "execution_count": null,
      "outputs": [
        {
          "output_type": "stream",
          "text": [
            "63/63 [==============================] - 0s 1ms/step - loss: 0.3603 - accuracy: 0.8570\n"
          ],
          "name": "stdout"
        }
      ]
    },
    {
      "cell_type": "markdown",
      "metadata": {
        "id": "2fQLgck5Cvl9"
      },
      "source": [
        "## Predict the results using 0.5 as a threshold"
      ]
    },
    {
      "cell_type": "code",
      "metadata": {
        "colab": {
          "base_uri": "https://localhost:8080/"
        },
        "id": "bTeAoDNHSzlQ",
        "outputId": "3373bfb2-db71-449f-e892-1f3841304786"
      },
      "source": [
        "# Making prediction\n",
        "y_pred = model.predict(x_test)\n",
        "y_pred"
      ],
      "execution_count": null,
      "outputs": [
        {
          "output_type": "execute_result",
          "data": {
            "text/plain": [
              "array([[0.25771403],\n",
              "       [0.19156298],\n",
              "       [0.04555553],\n",
              "       ...,\n",
              "       [0.16686666],\n",
              "       [0.28586727],\n",
              "       [0.12227994]], dtype=float32)"
            ]
          },
          "metadata": {
            "tags": []
          },
          "execution_count": 29
        }
      ]
    },
    {
      "cell_type": "code",
      "metadata": {
        "id": "gEMza-iv1T9b"
      },
      "source": [
        "# Convert probabilities into true or false - threshold = 0.5\n",
        "y_pred = (y_pred > 0.5)"
      ],
      "execution_count": null,
      "outputs": []
    },
    {
      "cell_type": "markdown",
      "metadata": {
        "id": "H9fGxQyLCzkt"
      },
      "source": [
        "## Print the Accuracy score and confusion matrix "
      ]
    },
    {
      "cell_type": "code",
      "metadata": {
        "colab": {
          "base_uri": "https://localhost:8080/"
        },
        "id": "Nhhr7V8h1elz",
        "outputId": "5f303241-491b-4ffa-be8d-3e13870855cd"
      },
      "source": [
        "# Making the Confusion Matrix\n",
        "from sklearn.metrics import confusion_matrix\n",
        "cm = confusion_matrix(y_test, y_pred)\n",
        "print(cm)"
      ],
      "execution_count": null,
      "outputs": [
        {
          "output_type": "stream",
          "text": [
            "[[1540   49]\n",
            " [ 237  174]]\n"
          ],
          "name": "stdout"
        }
      ]
    },
    {
      "cell_type": "code",
      "metadata": {
        "colab": {
          "base_uri": "https://localhost:8080/",
          "height": 282
        },
        "id": "zmRydtrw1lfQ",
        "outputId": "787d6f59-ddda-4565-c95f-95583b2ed762"
      },
      "source": [
        "sns.heatmap(cm, annot=True, cmap=plt.cm.GnBu_r )"
      ],
      "execution_count": null,
      "outputs": [
        {
          "output_type": "execute_result",
          "data": {
            "text/plain": [
              "<matplotlib.axes._subplots.AxesSubplot at 0x7f759f3508d0>"
            ]
          },
          "metadata": {
            "tags": []
          },
          "execution_count": 32
        },
        {
          "output_type": "display_data",
          "data": {
            "image/png": "[encoded data removed]",
            "text/plain": [
              "<Figure size 432x288 with 2 Axes>"
            ]
          },
          "metadata": {
            "tags": [],
            "needs_background": "light"
          }
        }
      ]
    },
    {
      "cell_type": "code",
      "metadata": {
        "colab": {
          "base_uri": "https://localhost:8080/"
        },
        "id": "kToeUM0x1szi",
        "outputId": "51359f89-2d55-400a-a1b5-cb5ac7120957"
      },
      "source": [
        "_, Train_Accuracy = model.evaluate(x_train, y_train, verbose=1)"
      ],
      "execution_count": null,
      "outputs": [
        {
          "output_type": "stream",
          "text": [
            "250/250 [==============================] - 1s 2ms/step - loss: 0.3460 - accuracy: 0.8596\n"
          ],
          "name": "stdout"
        }
      ]
    },
    {
      "cell_type": "code",
      "metadata": {
        "colab": {
          "base_uri": "https://localhost:8080/"
        },
        "id": "6ReY0qA_DBIm",
        "outputId": "1bae9211-a970-46eb-ab38-9be048540c51"
      },
      "source": [
        "_, Test_Accuracy = model.evaluate(x_test, y_test, verbose=1)"
      ],
      "execution_count": null,
      "outputs": [
        {
          "output_type": "stream",
          "text": [
            "63/63 [==============================] - 0s 1ms/step - loss: 0.3603 - accuracy: 0.8570\n"
          ],
          "name": "stdout"
        }
      ]
    },
    {
      "cell_type": "code",
      "metadata": {
        "colab": {
          "base_uri": "https://localhost:8080/"
        },
        "id": "mqqfRm3mDGUM",
        "outputId": "f2b61796-404b-4106-f509-8de7103232c7"
      },
      "source": [
        "print('Train accuracy: %.3f %%' % (Train_Accuracy * 100))\n",
        "print('Test accuracy:\\t%.3f %%' % (Test_Accuracy * 100))\n"
      ],
      "execution_count": null,
      "outputs": [
        {
          "output_type": "stream",
          "text": [
            "Train accuracy: 85.962 %\n",
            "Test accuracy:\t85.700 %\n"
          ],
          "name": "stdout"
        }
      ]
    },
    {
      "cell_type": "markdown",
      "metadata": {
        "id": "H9ArpW0yTAAa"
      },
      "source": [
        "Therefore, Accuracy = 85%\n",
        "\n",
        "1. Total correct predictions that customers stay in bank = 1540\n",
        "2. Total correct predictions that customers leave the bank = 174\n",
        "3. Total incorrect predictions that customers stay in the bank = 237\n",
        "4. Total incorrect predictions that customers leave in the bank = 49\n",
        "\n",
        "\n"
      ]
    }
  ]
}